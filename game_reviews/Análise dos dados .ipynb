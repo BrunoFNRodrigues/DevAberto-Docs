{
 "cells": [
  {
   "cell_type": "markdown",
   "id": "4c9661c1",
   "metadata": {},
   "source": [
    "# Projeto 3\n",
    "### Bruno Freitas do Nascimento Rodrigues\n",
    "### Keiya Nishio"
   ]
  },
  {
   "cell_type": "code",
   "execution_count": 96,
   "id": "8cb0db41",
   "metadata": {},
   "outputs": [],
   "source": [
    "import pandas as pd \n",
    "import matplotlib.pyplot as plt\n",
    "import numpy as np\n",
    "import json\n",
    "\n",
    "\n",
    "with open('GameInformer.json') as f:\n",
    "    data = json.load(f)\n",
    "jogos = pd.DataFrame(data)\n",
    "jogos = jogos.drop_duplicates(subset='titulo', keep='first', inplace=False, ignore_index=False)\n",
    "jogos['nota']=jogos['nota'].astype('float64')"
   ]
  },
  {
   "cell_type": "code",
   "execution_count": 97,
   "id": "22fbc5d4",
   "metadata": {},
   "outputs": [
    {
     "data": {
      "text/plain": [
       "(array([  0.,   0.,   0.,   3.,   0.,   0.,  10.,   0.,   0.,   0.,  11.,\n",
       "          2.,   2.,  23.,   0.,   9.,  58.,   0.,  28.,  15., 148.,  88.,\n",
       "         51., 183.,  70., 334., 335., 124., 233., 140., 226.,  44.,  13.]),\n",
       " array([0. , 0.3, 0.6, 0.9, 1.2, 1.5, 1.8, 2.1, 2.4, 2.7, 3. , 3.3, 3.6,\n",
       "        3.9, 4.2, 4.5, 4.8, 5.1, 5.4, 5.7, 6. , 6.3, 6.6, 6.9, 7.2, 7.5,\n",
       "        7.8, 8.1, 8.4, 8.7, 9. , 9.3, 9.6, 9.9]),\n",
       " <BarContainer object of 33 artists>)"
      ]
     },
     "execution_count": 97,
     "metadata": {},
     "output_type": "execute_result"
    },
    {
     "data": {
      "image/png": "[encoded data removed]",
      "text/plain": [
       "<Figure size 432x288 with 1 Axes>"
      ]
     },
     "metadata": {
      "needs_background": "light"
     },
     "output_type": "display_data"
    }
   ],
   "source": [
    "faixas = np.arange(0,10,0.3)\n",
    "nota = jogos['nota']\n",
    "notas = []\n",
    "for i in nota:\n",
    "    a=float(i)\n",
    "    notas.append(a)\n",
    "    \n",
    "publisher = jogos['publisher']\n",
    "plt.hist(notas, bins=faixas, edgecolor='white')"
   ]
  },
  {
   "cell_type": "code",
   "execution_count": 127,
   "id": "42c7072d",
   "metadata": {},
   "outputs": [],
   "source": [
    "nintendo = jogos[jogos[\"publisher\"]=='Nintendo']\n",
    "ps = jogos[jogos[\"publisher\"]=='Sony Interactive Entertainment']\n",
    "xbox = jogos[jogos['publisher']=='Xbox Game Studios']\n"
   ]
  },
  {
   "cell_type": "code",
   "execution_count": 134,
   "id": "fbb545b2",
   "metadata": {},
   "outputs": [
    {
     "data": {
      "image/png": "[encoded data removed]",
      "text/plain": [
       "<Figure size 432x288 with 1 Axes>"
      ]
     },
     "metadata": {
      "needs_background": "light"
     },
     "output_type": "display_data"
    },
    {
     "name": "stdout",
     "output_type": "stream",
     "text": [
      "7.887931034482759 \n",
      " 8.07258064516129 \n",
      " 8.25\n"
     ]
    }
   ],
   "source": [
    "faixas = np.arange(0,10,0.3)\n",
    "nota_n = nintendo['nota']\n",
    "nota_p = ps['nota']\n",
    "nota_x = xbox['nota']\n",
    "    \n",
    "publisher_n = nintendo['publisher']\n",
    "plt.hist(nota_n, bins=faixas, edgecolor='white', color='red')\n",
    "plt.hist(nota_p, bins=faixas, edgecolor='white', color='blue')\n",
    "plt.hist(nota_x, bins=faixas, edgecolor='white', color='green')\n",
    "plt.title('Nintendo')\n",
    "plt.xlabel('Notas')\n",
    "plt.ylabel('Quantidade das notas')\n",
    "plt.show()\n",
    "media_n=nota_n.mean()\n",
    "media_p=nota_p.mean()\n",
    "media_x=nota_x.mean()\n",
    "print(media_n,\"\\n\",media_p,\"\\n\",media_x)"
   ]
  },
  {
   "cell_type": "code",
   "execution_count": 126,
   "id": "28606929",
   "metadata": {},
   "outputs": [
    {
     "data": {
      "text/html": [
       "<div>\n",
       "<style scoped>\n",
       "    .dataframe tbody tr th:only-of-type {\n",
       "        vertical-align: middle;\n",
       "    }\n",
       "\n",
       "    .dataframe tbody tr th {\n",
       "        vertical-align: top;\n",
       "    }\n",
       "\n",
       "    .dataframe thead th {\n",
       "        text-align: right;\n",
       "    }\n",
       "</style>\n",
       "<table border=\"1\" class=\"dataframe\">\n",
       "  <thead>\n",
       "    <tr style=\"text-align: right;\">\n",
       "      <th></th>\n",
       "      <th>titulo</th>\n",
       "      <th>nota</th>\n",
       "      <th>publisher</th>\n",
       "      <th>desenvolvedora</th>\n",
       "      <th>lancamento</th>\n",
       "    </tr>\n",
       "  </thead>\n",
       "  <tbody>\n",
       "    <tr>\n",
       "      <th>0</th>\n",
       "      <td>Unsighted</td>\n",
       "      <td>9.00</td>\n",
       "      <td>Humble Games</td>\n",
       "      <td>Studio Pixel</td>\n",
       "      <td>September 30, 2021</td>\n",
       "    </tr>\n",
       "    <tr>\n",
       "      <th>13</th>\n",
       "      <td>Forza Horizon 5</td>\n",
       "      <td>9.50</td>\n",
       "      <td>Xbox Game Studios</td>\n",
       "      <td>Playground Games</td>\n",
       "      <td>November 9, 2021</td>\n",
       "    </tr>\n",
       "    <tr>\n",
       "      <th>14</th>\n",
       "      <td>Inscryption</td>\n",
       "      <td>9.00</td>\n",
       "      <td>Devolver Digital</td>\n",
       "      <td>Daniel Mullins Games</td>\n",
       "      <td>October 19, 2021</td>\n",
       "    </tr>\n",
       "    <tr>\n",
       "      <th>18</th>\n",
       "      <td>Death's Door</td>\n",
       "      <td>9.00</td>\n",
       "      <td>Devolver Digital</td>\n",
       "      <td>Acid Nerve</td>\n",
       "      <td>None</td>\n",
       "    </tr>\n",
       "    <tr>\n",
       "      <th>23</th>\n",
       "      <td>Kena: Bridge of Spirits</td>\n",
       "      <td>9.00</td>\n",
       "      <td>Ember Lab</td>\n",
       "      <td>Ember Lab</td>\n",
       "      <td>September 21, 2021</td>\n",
       "    </tr>\n",
       "    <tr>\n",
       "      <th>...</th>\n",
       "      <td>...</td>\n",
       "      <td>...</td>\n",
       "      <td>...</td>\n",
       "      <td>...</td>\n",
       "      <td>...</td>\n",
       "    </tr>\n",
       "    <tr>\n",
       "      <th>2801</th>\n",
       "      <td>Marvel vs. Capcom 3: Fate of the Two Worlds</td>\n",
       "      <td>9.25</td>\n",
       "      <td>Capcom</td>\n",
       "      <td>Capcom</td>\n",
       "      <td>None</td>\n",
       "    </tr>\n",
       "    <tr>\n",
       "      <th>2804</th>\n",
       "      <td>Killzone 3</td>\n",
       "      <td>9.00</td>\n",
       "      <td>Sony Computer Entertainment</td>\n",
       "      <td>Guerrilla Games</td>\n",
       "      <td>None</td>\n",
       "    </tr>\n",
       "    <tr>\n",
       "      <th>2809</th>\n",
       "      <td>BulletStorm</td>\n",
       "      <td>9.25</td>\n",
       "      <td>Electronic Arts</td>\n",
       "      <td>Electronic Arts</td>\n",
       "      <td>February 22, 2011</td>\n",
       "    </tr>\n",
       "    <tr>\n",
       "      <th>2817</th>\n",
       "      <td>Fight Night Champion</td>\n",
       "      <td>9.00</td>\n",
       "      <td>EA Sports</td>\n",
       "      <td>EA Canada</td>\n",
       "      <td>None</td>\n",
       "    </tr>\n",
       "    <tr>\n",
       "      <th>2819</th>\n",
       "      <td>Dead Space 2</td>\n",
       "      <td>9.00</td>\n",
       "      <td>Electronic Arts</td>\n",
       "      <td>Visceral Games</td>\n",
       "      <td>January 3, 2011</td>\n",
       "    </tr>\n",
       "  </tbody>\n",
       "</table>\n",
       "<p>293 rows × 5 columns</p>\n",
       "</div>"
      ],
      "text/plain": [
       "                                           titulo  nota  \\\n",
       "0                                       Unsighted  9.00   \n",
       "13                                Forza Horizon 5  9.50   \n",
       "14                                    Inscryption  9.00   \n",
       "18                                   Death's Door  9.00   \n",
       "23                        Kena: Bridge of Spirits  9.00   \n",
       "...                                           ...   ...   \n",
       "2801  Marvel vs. Capcom 3: Fate of the Two Worlds  9.25   \n",
       "2804                                   Killzone 3  9.00   \n",
       "2809                                  BulletStorm  9.25   \n",
       "2817                         Fight Night Champion  9.00   \n",
       "2819                                 Dead Space 2  9.00   \n",
       "\n",
       "                        publisher        desenvolvedora          lancamento  \n",
       "0                    Humble Games          Studio Pixel  September 30, 2021  \n",
       "13              Xbox Game Studios      Playground Games    November 9, 2021  \n",
       "14               Devolver Digital  Daniel Mullins Games    October 19, 2021  \n",
       "18               Devolver Digital            Acid Nerve                None  \n",
       "23                      Ember Lab             Ember Lab  September 21, 2021  \n",
       "...                           ...                   ...                 ...  \n",
       "2801                       Capcom                Capcom                None  \n",
       "2804  Sony Computer Entertainment       Guerrilla Games                None  \n",
       "2809              Electronic Arts       Electronic Arts   February 22, 2011  \n",
       "2817                    EA Sports             EA Canada                None  \n",
       "2819              Electronic Arts        Visceral Games     January 3, 2011  \n",
       "\n",
       "[293 rows x 5 columns]"
      ]
     },
     "execution_count": 126,
     "metadata": {},
     "output_type": "execute_result"
    }
   ],
   "source": [
    "acima_media = jogos[jogos[\"nota\"]>=9]\n",
    "acima_media"
   ]
  },
  {
   "cell_type": "code",
   "execution_count": null,
   "id": "aed24edc",
   "metadata": {},
   "outputs": [],
   "source": []
  },
  {
   "cell_type": "code",
   "execution_count": null,
   "id": "dccb08c9",
   "metadata": {},
   "outputs": [],
   "source": []
  }
 ],
 "metadata": {
  "kernelspec": {
   "display_name": "Python 3",
   "language": "python",
   "name": "python3"
  },
  "language_info": {
   "codemirror_mode": {
    "name": "ipython",
    "version": 3
   },
   "file_extension": ".py",
   "mimetype": "text/x-python",
   "name": "python",
   "nbconvert_exporter": "python",
   "pygments_lexer": "ipython3",
   "version": "3.8.8"
  }
 },
 "nbformat": 4,
 "nbformat_minor": 5
}
