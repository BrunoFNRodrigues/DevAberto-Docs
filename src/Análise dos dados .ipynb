{
 "cells": [
  {
   "cell_type": "markdown",
   "id": "4c9661c1",
   "metadata": {},
   "source": [
    "# Projeto 3\n",
    "### Bruno Freitas do Nascimento Rodrigues\n",
    "### Keiya Nishio"
   ]
  },
  {
   "cell_type": "code",
   "execution_count": 2,
   "id": "8cb0db41",
   "metadata": {},
   "outputs": [],
   "source": [
    "import pandas as pd \n",
    "import matplotlib.pyplot as plt\n",
    "import numpy as np\n",
    "import json\n",
    "\n",
    "\n",
    "with open('GameInformer.json') as f:\n",
    "    data = json.load(f)\n",
    "jogos = pd.DataFrame(data)\n",
    "jogos = jogos.drop_duplicates(subset='titulo', keep='first', inplace=False, ignore_index=False)\n",
    "jogos['nota']=jogos['nota'].astype('float64')"
   ]
  },
  {
   "cell_type": "code",
   "execution_count": 3,
   "id": "22fbc5d4",
   "metadata": {},
   "outputs": [
    {
     "data": {
      "image/png": "[encoded data removed]",
      "text/plain": [
       "<Figure size 432x288 with 1 Axes>"
      ]
     },
     "metadata": {
      "needs_background": "light"
     },
     "output_type": "display_data"
    }
   ],
   "source": [
    "faixas = np.arange(0,10,0.3)\n",
    "nota = jogos['nota']\n",
    "notas = []\n",
    "for i in nota:\n",
    "    a=float(i)\n",
    "    notas.append(a)\n",
    "    \n",
    "distribuidora = jogos['distribuidora']\n",
    "plt.hist(notas, bins=faixas, edgecolor='black', color=\"gold\")\n",
    "plt.title(\"Distribuição total das nostas\")\n",
    "plt.xlabel(\"Nota\")\n",
    "plt.ylabel(\"Número de jogos\")\n",
    "plt.show()"
   ]
  },
  {
   "cell_type": "markdown",
   "id": "51624845",
   "metadata": {},
   "source": [
    "O  gráfico acima apresenta a quantidades de jogos com as suas respectivas notas. Podemos obsevar que há um número maior de jogos próximo da nota 8."
   ]
  },
  {
   "cell_type": "code",
   "execution_count": 4,
   "id": "42c7072d",
   "metadata": {},
   "outputs": [],
   "source": [
    "nintendo = jogos[jogos[\"distribuidora\"]=='Nintendo']\n",
    "ps = jogos[jogos[\"distribuidora\"]=='Sony Interactive Entertainment']\n",
    "xbox = jogos[jogos['distribuidora']=='Xbox Game Studios']\n"
   ]
  },
  {
   "cell_type": "code",
   "execution_count": 7,
   "id": "fbb545b2",
   "metadata": {},
   "outputs": [
    {
     "data": {
      "image/png": "[encoded data removed]",
      "text/plain": [
       "<Figure size 432x288 with 1 Axes>"
      ]
     },
     "metadata": {
      "needs_background": "light"
     },
     "output_type": "display_data"
    },
    {
     "name": "stdout",
     "output_type": "stream",
     "text": [
      "Média da Nintendo: 7.887931034482759\n",
      "Média da Playstation: 8.07258064516129\n",
      "Média da Xbox: 8.25\n"
     ]
    }
   ],
   "source": [
    "faixas = np.arange(0,10,0.3)\n",
    "nota_n = nintendo['nota']\n",
    "nota_p = ps['nota']\n",
    "nota_x = xbox['nota']\n",
    "    \n",
    "distribuidora_n = nintendo['distribuidora']\n",
    "plt.hist(nota_n, bins=faixas, edgecolor='black', color='red')\n",
    "plt.hist(nota_p, bins=faixas, edgecolor='black', color='blue', alpha=0.8)\n",
    "plt.hist(nota_x, bins=faixas, edgecolor='black', color='limegreen', alpha=0.8)\n",
    "plt.legend([\"nintendo\",\"playstation\",\"xbox\"])\n",
    "plt.title('Nintendo x Playstation x Xbox')\n",
    "plt.xlabel('Notas')\n",
    "plt.ylabel('Número de jogos')\n",
    "plt.show()\n",
    "media_n=nota_n.mean()\n",
    "media_p=nota_p.mean()\n",
    "media_x=nota_x.mean()\n",
    "\n",
    "print('Média da Nintendo: {}'.format(media_n))\n",
    "print('Média da Playstation: {}'.format(media_p))\n",
    "print('Média da Xbox: {}'.format(media_x))"
   ]
  },
  {
   "cell_type": "markdown",
   "id": "6b3227d0",
   "metadata": {},
   "source": [
    "O gráfico acima apresenta a quantidade de jogos com as suas respectivas notas, porém comparando jogos exclusivos da Nintendo, Playstation e Xbox. Podemos observar que a Nintendo tem um número maior de jogos, porém isso afeta na sua média, representando a menor entre os três."
   ]
  },
  {
   "cell_type": "code",
   "execution_count": null,
   "id": "aed24edc",
   "metadata": {},
   "outputs": [],
   "source": []
  }
 ],
 "metadata": {
  "kernelspec": {
   "display_name": "Python 3.8.8 ('base')",
   "language": "python",
   "name": "python3"
  },
  "language_info": {
   "codemirror_mode": {
    "name": "ipython",
    "version": 3
   },
   "file_extension": ".py",
   "mimetype": "text/x-python",
   "name": "python",
   "nbconvert_exporter": "python",
   "pygments_lexer": "ipython3",
   "version": "3.8.8"
  },
  "vscode": {
   "interpreter": {
    "hash": "b42f027cf2cf7634146f3409791b9d3d254d89bff852c60783c4a2ae7ca7abb3"
   }
  }
 },
 "nbformat": 4,
 "nbformat_minor": 5
}
